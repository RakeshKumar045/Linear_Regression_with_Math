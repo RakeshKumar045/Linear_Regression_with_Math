{
 "cells": [
  {
   "cell_type": "code",
   "execution_count": 26,
   "metadata": {},
   "outputs": [],
   "source": [
    "from math import pow"
   ]
  },
  {
   "cell_type": "markdown",
   "metadata": {},
   "source": [
    "Function to Calculate the mean value\n"
   ]
  },
  {
   "attachments": {
    "image.png": {
     "image/png": "[encoded data removed]"
    }
   },
   "cell_type": "markdown",
   "metadata": {},
   "source": [
    "\n",
    "![image.png](attachment:image.png)\n"
   ]
  },
  {
   "cell_type": "code",
   "execution_count": 1,
   "metadata": {},
   "outputs": [],
   "source": [
    "def cal_mean(readings):\n",
    "    total = sum(readings)\n",
    "    number = len(readings)\n",
    "    mean = total/number\n",
    "    return mean"
   ]
  },
  {
   "attachments": {
    "image.png": {
     "image/png": "[encoded data removed]"
    }
   },
   "cell_type": "markdown",
   "metadata": {},
   "source": [
    "Formula for calculating the variance value\n",
    "![image.png](attachment:image.png)\n"
   ]
  },
  {
   "cell_type": "code",
   "execution_count": 30,
   "metadata": {},
   "outputs": [],
   "source": [
    "def cal_var(readings):\n",
    "    mean = cal_mean(readings)\n",
    "    # mean difference squared readings\n",
    "    mean_difference_squared_readings = [pow((reading-mean),2) for reading in readings]\n",
    "    variance = sum(mean_difference_squared_readings)/float(len(readings)-1)\n",
    "    return variance"
   ]
  },
  {
   "attachments": {
    "image.png": {
     "image/png": "[encoded data removed]"
    }
   },
   "cell_type": "markdown",
   "metadata": {},
   "source": [
    "Formula for calculating covariance between two series of readings\n",
    "![image.png](attachment:image.png)"
   ]
  },
  {
   "cell_type": "code",
   "execution_count": 32,
   "metadata": {},
   "outputs": [],
   "source": [
    "def cal_covariance(readings_1, readings_2):\n",
    "    \"\"\"\n",
    "    Calculate the covariance between two different list of readings\n",
    "    :param readings_1:\n",
    "    :param readings_2:\n",
    "    :return:\n",
    "    \"\"\"\n",
    "    readings_1_mean = cal_mean(readings_1)\n",
    "    readings_2_mean = cal_mean(readings_2)\n",
    "    readings_size = len(readings_1)\n",
    "    covariance = 0.0\n",
    "    for i in range(0, readings_size):\n",
    "        covariance += (readings_1[i] - readings_1_mean) * (readings_2[i] - readings_2_mean)\n",
    "    return covariance / float(readings_size - 1)"
   ]
  },
  {
   "attachments": {
    "image.png": {
     "image/png": "[encoded data removed]"
    }
   },
   "cell_type": "markdown",
   "metadata": {},
   "source": [
    "Formula for calculating the {w}_{0} and {w}_{1} values\n",
    "![image.png](attachment:image.png)\n"
   ]
  },
  {
   "attachments": {
    "image.png": {
     "image/png": "[encoded data removed]"
    }
   },
   "cell_type": "markdown",
   "metadata": {},
   "source": [
    "![image.png](attachment:image.png)\n"
   ]
  },
  {
   "cell_type": "code",
   "execution_count": 5,
   "metadata": {},
   "outputs": [],
   "source": [
    "def cal_simple_linear_regression_coefficients(x_readings, y_readings):\n",
    "    \"\"\"\n",
    "    Calculating the simple linear regression coefficients (B0, B1)\n",
    "    :param x_readings:\n",
    "    :param y_readings:\n",
    "    :return:\n",
    "    \"\"\"\n",
    "    # Coefficient W1 = covariance of x_readings and y_readings divided by variance of x_readings\n",
    "    # Directly calling the implemented covariance and the variance functions\n",
    "    # To calculate the coefficient W1\n",
    "    w1 = cal_covariance(x_readings, y_readings) / float(cal_variance(x_readings))\n",
    "\n",
    "    # Coefficient W0 = mean of y_readings - ( W1 * the mean of the x_readings )\n",
    "    w0 = cal_mean(y_readings) - (w1 * cal_mean(x_readings))\n",
    "    return w0, w1"
   ]
  },
  {
   "cell_type": "code",
   "execution_count": 11,
   "metadata": {},
   "outputs": [
    {
     "data": {
      "text/html": [
       "<div>\n",
       "<style scoped>\n",
       "    .dataframe tbody tr th:only-of-type {\n",
       "        vertical-align: middle;\n",
       "    }\n",
       "\n",
       "    .dataframe tbody tr th {\n",
       "        vertical-align: top;\n",
       "    }\n",
       "\n",
       "    .dataframe thead th {\n",
       "        text-align: right;\n",
       "    }\n",
       "</style>\n",
       "<table border=\"1\" class=\"dataframe\">\n",
       "  <thead>\n",
       "    <tr style=\"text-align: right;\">\n",
       "      <th></th>\n",
       "      <th>square_feet</th>\n",
       "      <th>price</th>\n",
       "    </tr>\n",
       "  </thead>\n",
       "  <tbody>\n",
       "    <tr>\n",
       "      <th>0</th>\n",
       "      <td>150</td>\n",
       "      <td>6450</td>\n",
       "    </tr>\n",
       "    <tr>\n",
       "      <th>1</th>\n",
       "      <td>200</td>\n",
       "      <td>7450</td>\n",
       "    </tr>\n",
       "    <tr>\n",
       "      <th>2</th>\n",
       "      <td>250</td>\n",
       "      <td>8450</td>\n",
       "    </tr>\n",
       "    <tr>\n",
       "      <th>3</th>\n",
       "      <td>300</td>\n",
       "      <td>9450</td>\n",
       "    </tr>\n",
       "    <tr>\n",
       "      <th>4</th>\n",
       "      <td>350</td>\n",
       "      <td>11450</td>\n",
       "    </tr>\n",
       "  </tbody>\n",
       "</table>\n",
       "</div>"
      ],
      "text/plain": [
       "   square_feet  price\n",
       "0          150   6450\n",
       "1          200   7450\n",
       "2          250   8450\n",
       "3          300   9450\n",
       "4          350  11450"
      ]
     },
     "execution_count": 11,
     "metadata": {},
     "output_type": "execute_result"
    }
   ],
   "source": [
    "import pandas as pd\n",
    "data = pd.read_csv('dataset/input_data.csv')\n",
    "data.head()"
   ]
  },
  {
   "cell_type": "code",
   "execution_count": 12,
   "metadata": {
    "scrolled": true
   },
   "outputs": [
    {
     "name": "stdout",
     "output_type": "stream",
     "text": [
      "<class 'pandas.core.frame.DataFrame'>\n",
      "RangeIndex: 7 entries, 0 to 6\n",
      "Data columns (total 2 columns):\n",
      "square_feet    7 non-null int64\n",
      "price          7 non-null int64\n",
      "dtypes: int64(2)\n",
      "memory usage: 192.0 bytes\n"
     ]
    }
   ],
   "source": [
    "data.info()"
   ]
  },
  {
   "cell_type": "code",
   "execution_count": 15,
   "metadata": {},
   "outputs": [
    {
     "data": {
      "image/png": "[encoded data removed]",
      "text/plain": [
       "<Figure size 432x288 with 1 Axes>"
      ]
     },
     "metadata": {},
     "output_type": "display_data"
    }
   ],
   "source": [
    "import matplotlib.pyplot as plt\n",
    "plt.scatter(x = data['square_feet'], y = data['price'])\n",
    "plt.xlabel('square_feet')\n",
    "plt.ylabel('price')\n",
    "plt.show()"
   ]
  },
  {
   "cell_type": "code",
   "execution_count": 37,
   "metadata": {},
   "outputs": [],
   "source": [
    "#Now let’s use the house price dataset to model the simple linear regression.\n",
    "\n",
    "def simple_linear_reg(dataset):\n",
    "    # Get the dataset header names\n",
    "    X = dataset.iloc[:,0]\n",
    "    Y = dataset.iloc[:,1]\n",
    "    m = len(X)\n",
    "    # to calculate parameters we need mean, variance, covariance\n",
    "    # calculate mean from mean function\n",
    "    square_feet_mean = cal_mean(X)\n",
    "    price_mean = cal_mean(Y)\n",
    "    # calcualet variance of X\n",
    "    square_feet_variance = cal_var(X)\n",
    "    price_variance = cal_var(Y)\n",
    "    covariance_of_price_and_square_feet = cal_covariance(X,Y)\n",
    "    w1 = covariance_of_price_and_square_feet / float(square_feet_variance)\n",
    "    w0 = price_mean - w1 * square_feet_mean\n",
    "    # prediction\n",
    "    dataset['predicted price'] = w0 + w1 * X\n",
    "    return dataset['predicted price']\n",
    "    "
   ]
  },
  {
   "cell_type": "code",
   "execution_count": 39,
   "metadata": {},
   "outputs": [
    {
     "data": {
      "text/html": [
       "<div>\n",
       "<style scoped>\n",
       "    .dataframe tbody tr th:only-of-type {\n",
       "        vertical-align: middle;\n",
       "    }\n",
       "\n",
       "    .dataframe tbody tr th {\n",
       "        vertical-align: top;\n",
       "    }\n",
       "\n",
       "    .dataframe thead th {\n",
       "        text-align: right;\n",
       "    }\n",
       "</style>\n",
       "<table border=\"1\" class=\"dataframe\">\n",
       "  <thead>\n",
       "    <tr style=\"text-align: right;\">\n",
       "      <th></th>\n",
       "      <th>square_feet</th>\n",
       "      <th>price</th>\n",
       "      <th>predicted price</th>\n",
       "    </tr>\n",
       "  </thead>\n",
       "  <tbody>\n",
       "    <tr>\n",
       "      <th>0</th>\n",
       "      <td>150</td>\n",
       "      <td>6450</td>\n",
       "      <td>6088.297872</td>\n",
       "    </tr>\n",
       "    <tr>\n",
       "      <th>1</th>\n",
       "      <td>200</td>\n",
       "      <td>7450</td>\n",
       "      <td>7527.127660</td>\n",
       "    </tr>\n",
       "    <tr>\n",
       "      <th>2</th>\n",
       "      <td>250</td>\n",
       "      <td>8450</td>\n",
       "      <td>8965.957447</td>\n",
       "    </tr>\n",
       "    <tr>\n",
       "      <th>3</th>\n",
       "      <td>300</td>\n",
       "      <td>9450</td>\n",
       "      <td>10404.787234</td>\n",
       "    </tr>\n",
       "    <tr>\n",
       "      <th>4</th>\n",
       "      <td>350</td>\n",
       "      <td>11450</td>\n",
       "      <td>11843.617021</td>\n",
       "    </tr>\n",
       "  </tbody>\n",
       "</table>\n",
       "</div>"
      ],
      "text/plain": [
       "   square_feet  price  predicted price\n",
       "0          150   6450      6088.297872\n",
       "1          200   7450      7527.127660\n",
       "2          250   8450      8965.957447\n",
       "3          300   9450     10404.787234\n",
       "4          350  11450     11843.617021"
      ]
     },
     "execution_count": 39,
     "metadata": {},
     "output_type": "execute_result"
    }
   ],
   "source": [
    "data.head()"
   ]
  },
  {
   "cell_type": "code",
   "execution_count": 45,
   "metadata": {},
   "outputs": [],
   "source": [
    "# calculate rmse\n",
    "def rmse(target, predicted):\n",
    "    error_total = 0.0\n",
    "    for i in range(0,len(predicted)):\n",
    "        error = pow((predicted[i]-target[i]),2)\n",
    "        cost = 0.5*(error/len(target))\n",
    "        error_total+=cost\n",
    "    return error_total"
   ]
  },
  {
   "cell_type": "code",
   "execution_count": 46,
   "metadata": {},
   "outputs": [
    {
     "data": {
      "text/plain": [
       "465235.5623100303"
      ]
     },
     "execution_count": 46,
     "metadata": {},
     "output_type": "execute_result"
    }
   ],
   "source": [
    "cost = rmse(data['price'],data['predicted price'])\n",
    "cost"
   ]
  },
  {
   "cell_type": "markdown",
   "metadata": {},
   "source": [
    "this is an implementation of simple linear regression without running gradient descent algorithm \n",
    " that is why cost is high\n"
   ]
  },
  {
   "cell_type": "code",
   "execution_count": null,
   "metadata": {},
   "outputs": [],
   "source": [
    "#Check out the complete code below.\n",
    "#!/usr/bin/env python\n",
    "# Author : Vernika\n",
    "# Date: 14-12-2018\n",
    "# About: Run simple linear regression without using scikit learn\n",
    "\n",
    "# Required Python Packages\n",
    "import pandas as pd\n",
    "from math import pow\n",
    "\n",
    "\n",
    "def get_headers(dataframe):\n",
    "    \"\"\"\n",
    "    Get the headers name of the dataframe\n",
    "    :param dataframe:\n",
    "    :return:\n",
    "    \"\"\"\n",
    "    return dataframe.columns.values\n",
    "\n",
    "\n",
    "def cal_mean(readings):\n",
    "    \"\"\"\n",
    "    Function to calculate the mean value of the input readings\n",
    "    :param readings:\n",
    "    :return:\n",
    "    \"\"\"\n",
    "    readings_total = sum(readings)\n",
    "    number_of_readings = len(readings)\n",
    "    mean = readings_total / float(number_of_readings)\n",
    "    return mean\n",
    "\n",
    "\n",
    "def cal_variance(readings):\n",
    "    \"\"\"\n",
    "    Calculating the variance of the readings\n",
    "    :param readings:\n",
    "    :return:\n",
    "    \"\"\"\n",
    "\n",
    "    # To calculate the variance we need the mean value\n",
    "    # Calculating the mean value from the cal_mean function\n",
    "    readings_mean = cal_mean(readings)\n",
    "    # mean difference squared readings\n",
    "    mean_difference_squared_readings = [pow((reading - readings_mean), 2) for reading in readings]\n",
    "    variance = sum(mean_difference_squared_readings)\n",
    "    return variance / float(len(readings) - 1)\n",
    "\n",
    "\n",
    "def cal_covariance(readings_1, readings_2):\n",
    "    \"\"\"\n",
    "    Calculate the covariance between two different list of readings\n",
    "    :param readings_1:\n",
    "    :param readings_2:\n",
    "    :return:\n",
    "    \"\"\"\n",
    "    readings_1_mean = cal_mean(readings_1)\n",
    "    readings_2_mean = cal_mean(readings_2)\n",
    "    readings_size = len(readings_1)\n",
    "    covariance = 0.0\n",
    "    for i in xrange(0, readings_size):\n",
    "        covariance += (readings_1[i] - readings_1_mean) * (readings_2[i] - readings_2_mean)\n",
    "    return covariance / float(readings_size - 1)\n",
    "\n",
    "\n",
    "def cal_simple_linear_regression_coefficients(x_readings, y_readings):\n",
    "    \"\"\"\n",
    "    Calculating the simple linear regression coefficients (B0, B1)\n",
    "    :param x_readings:\n",
    "    :param y_readings:\n",
    "    :return:\n",
    "    \"\"\"\n",
    "    # Coefficient B1 = covariance of x_readings and y_readings divided by variance of x_readings\n",
    "    # Directly calling the implemented covariance and the variance functions\n",
    "    # To calculate the coefficient B1\n",
    "    b1 = cal_covariance(x_readings, y_readings) / float(cal_variance(x_readings))\n",
    "\n",
    "    # Coefficient B0 = mean of y_readings - ( B1 * the mean of the x_readings )\n",
    "    b0 = cal_mean(y_readings) - (b1 * cal_mean(x_readings))\n",
    "    return b0, b1\n",
    "\n",
    "\n",
    "def predict_target_value(x, b0, b1):\n",
    "    \"\"\"\n",
    "    Calculating the target (y) value using the input x and the coefficients b0, b1\n",
    "    :param x:\n",
    "    :param b0:\n",
    "    :param b1:\n",
    "    :return:\n",
    "    \"\"\"\n",
    "    return b0 + b1 * x\n",
    "\n",
    "\n",
    "def cal_rmse(actual_readings, predicted_readings):\n",
    "    \"\"\"\n",
    "    Calculating the root mean square error\n",
    "    :param actual_readings:\n",
    "    :param predicted_readings:\n",
    "    :return:\n",
    "    \"\"\"\n",
    "    square_error_total = 0.0\n",
    "    total_readings = len(actual_readings)\n",
    "    for i in xrange(0, total_readings):\n",
    "        error = predicted_readings[i] - actual_readings[i]\n",
    "        square_error_total += pow(error, 2)\n",
    "    rmse = square_error_total / float(total_readings)\n",
    "    return rmse\n",
    "\n",
    "\n",
    "def simple_linear_regression(dataset):\n",
    "    \"\"\"\n",
    "    Implementing simple linear regression without using any python library\n",
    "    :param dataset:\n",
    "    :return:\n",
    "    \"\"\"\n",
    "\n",
    "    # Get the dataset header names\n",
    "    dataset_headers = get_headers(dataset)\n",
    "    print (\"Dataset Headers :: \", dataset_headers)\n",
    "\n",
    "    # Calculating the mean of the square feet and the price readings\n",
    "    square_feet_mean = cal_mean(dataset[dataset_headers[0]])\n",
    "    price_mean = cal_mean(dataset[dataset_headers[1]])\n",
    "\n",
    "    square_feet_variance = cal_variance(dataset[dataset_headers[0]])\n",
    "    price_variance = cal_variance(dataset[dataset_headers[1]])\n",
    "\n",
    "    # Calculating the regression\n",
    "    covariance_of_price_and_square_feet = dataset.cov()[dataset_headers[0]][dataset_headers[1]]\n",
    "    w1 = covariance_of_price_and_square_feet / float(square_feet_variance)\n",
    "\n",
    "    w0 = price_mean - (w1 * square_feet_mean)\n",
    "\n",
    "    # Predictions\n",
    "    dataset['Predicted_Price'] = w0 + w1 * dataset[dataset_headers[0]]\n",
    "\n",
    "\n",
    "if __name__ == \"__main__\":\n",
    "\n",
    "#     input_path = '/Dataset/input_data.csv'\n",
    "    house_price_dataset = pd.read_csv('Dataset/input_data.csv')\n",
    "    simple_linear_regression(house_price_dataset)"
   ]
  }
 ],
 "metadata": {
  "kernelspec": {
   "display_name": "Python 3",
   "language": "python",
   "name": "python3"
  },
  "language_info": {
   "codemirror_mode": {
    "name": "ipython",
    "version": 3
   },
   "file_extension": ".py",
   "mimetype": "text/x-python",
   "name": "python",
   "nbconvert_exporter": "python",
   "pygments_lexer": "ipython3",
   "version": "3.6.5"
  }
 },
 "nbformat": 4,
 "nbformat_minor": 2
}
