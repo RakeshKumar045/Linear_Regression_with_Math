{
 "cells": [
  {
   "cell_type": "markdown",
   "metadata": {},
   "source": [
    "Objective - Find the best fit line for the Data "
   ]
  },
  {
   "cell_type": "markdown",
   "metadata": {},
   "source": [
    "y = mx + b\n",
    "\n",
    "y = label or target\n",
    "\n",
    "x = input feature\n",
    "\n",
    "m = slope\n",
    "\n",
    "b =  Y intercept"
   ]
  },
  {
   "cell_type": "markdown",
   "metadata": {},
   "source": [
    "The slope, m, of the best-fit line is defined as:\n",
    "\n",
    "<img src = 'best-fit-slope.png'>\n"
   ]
  },
  {
   "cell_type": "markdown",
   "metadata": {},
   "source": [
    "<img src = 'best-intercept.png'>"
   ]
  },
  {
   "cell_type": "code",
   "execution_count": 2,
   "metadata": {},
   "outputs": [
    {
     "data": {
      "text/plain": [
       "(0.29999999999999893, 4.300000000000003)"
      ]
     },
     "execution_count": 2,
     "metadata": {},
     "output_type": "execute_result"
    }
   ],
   "source": [
    "from statistics import mean\n",
    "import numpy as np\n",
    "\n",
    "x = np.array([1,2,3,4,5], dtype = np.float64)\n",
    "y = np.array([5,4,6,5,6], dtype = np.float64)\n",
    "\n",
    "def best_slope_intercept(x,y):\n",
    "    m = (mean(x) * mean(y) - mean(x * y))/(mean(x)**2 - mean(x*x))\n",
    "    b = (mean(y) - (m * mean(x)))\n",
    "    return m, b\n",
    "m, b = best_slope_intercept(x,y)\n",
    "m, b"
   ]
  },
  {
   "cell_type": "markdown",
   "metadata": {},
   "source": [
    "Now calculating the regression line using list comprehension."
   ]
  },
  {
   "cell_type": "code",
   "execution_count": 3,
   "metadata": {},
   "outputs": [
    {
     "data": {
      "text/plain": [
       "[4.600000000000002,\n",
       " 4.900000000000001,\n",
       " 5.2,\n",
       " 5.499999999999999,\n",
       " 5.799999999999998]"
      ]
     },
     "execution_count": 3,
     "metadata": {},
     "output_type": "execute_result"
    }
   ],
   "source": [
    "regression_line = [m * x + b for x in x]\n",
    "regression_line"
   ]
  },
  {
   "cell_type": "markdown",
   "metadata": {},
   "source": [
    "Great, let's reap the fruits of our labor finally! Add the following imports:"
   ]
  },
  {
   "cell_type": "code",
   "execution_count": 4,
   "metadata": {},
   "outputs": [],
   "source": [
    "import matplotlib.pyplot as plt\n",
    "from matplotlib import style\n",
    "style.use('ggplot')"
   ]
  },
  {
   "cell_type": "code",
   "execution_count": 42,
   "metadata": {},
   "outputs": [
    {
     "data": {
      "image/png": "[encoded data removed]",
      "text/plain": [
       "<Figure size 432x288 with 1 Axes>"
      ]
     },
     "metadata": {},
     "output_type": "display_data"
    }
   ],
   "source": [
    "plt.scatter(x,y, color = '#003F72', label = 'Data')\n",
    "plt.plot(x, regression_line, label = 'regresion line')\n",
    "plt.xlabel('x')\n",
    "plt.ylabel('y')\n",
    "plt.title('Regression line that fits the data points.')\n",
    "plt.legend(loc =4)\n",
    "plt.show()"
   ]
  },
  {
   "cell_type": "markdown",
   "metadata": {},
   "source": [
    "Congratulations for making it this far! So, how might you go about actually making a prediction based on this model you just made? Simple enough, right? You have your model, you just fill in x. For example, let's predict out a couple of points:"
   ]
  },
  {
   "cell_type": "code",
   "execution_count": 7,
   "metadata": {},
   "outputs": [
    {
     "data": {
      "image/png": "[encoded data removed]",
      "text/plain": [
       "<Figure size 432x288 with 1 Axes>"
      ]
     },
     "metadata": {},
     "output_type": "display_data"
    }
   ],
   "source": [
    "predict_x = 7\n",
    "predict_y = m * predict_x + b\n",
    "plt.scatter(x,y, label = 'data', color='#003F72')\n",
    "plt.scatter(predict_x, predict_y, color = 'r', label = 'prediction point')\n",
    "plt.plot(x, regression_line, label = 'regression line')\n",
    "plt.legend(loc=4)\n",
    "plt.show()"
   ]
  },
  {
   "cell_type": "markdown",
   "metadata": {},
   "source": [
    "Cost function or Mean Squared Error = \n",
    "<img src = 'cost_function.png'>"
   ]
  },
  {
   "cell_type": "markdown",
   "metadata": {},
   "source": [
    "The Mean Squared Error (MSE) is a measure of how close a fitted line is to data points. For every data point, you take the distance vertically from the point to the corresponding y value on the curve fit (the error), and square the value. Then you add up all those values for all data points, and, in the case of a fit with two parameters such as a linear fit, divide by the number of points minus two.** The squaring is done so negative values do not cancel positive values. The smaller the Mean Squared Error, the closer the fit is to the data. The MSE has the units squared of whatever is plotted on the vertical axis."
   ]
  },
  {
   "cell_type": "code",
   "execution_count": 33,
   "metadata": {},
   "outputs": [
    {
     "data": {
      "text/plain": [
       "0.19"
      ]
     },
     "execution_count": 33,
     "metadata": {},
     "output_type": "execute_result"
    }
   ],
   "source": [
    "MSE =   0.5 *((sum((regression_line - y) ** 2))/len(y))\n",
    "MSE"
   ]
  },
  {
   "cell_type": "markdown",
   "metadata": {},
   "source": [
    "RMSE is root mean squared error.\n",
    "It is just square root of MSE.\n",
    "\n",
    "RMSE measure the standard deviation of residual.\n",
    "\n",
    "Residual is vertical distance between observed value and predicted value by regression line.\n",
    "\n",
    "<img src = 'RMSE.gif'>\n"
   ]
  },
  {
   "cell_type": "code",
   "execution_count": 37,
   "metadata": {},
   "outputs": [
    {
     "data": {
      "text/plain": [
       "0.43588989435406733"
      ]
     },
     "execution_count": 37,
     "metadata": {},
     "output_type": "execute_result"
    }
   ],
   "source": [
    "from math import sqrt\n",
    "RMSE = sqrt(MSE)\n",
    "RMSE"
   ]
  },
  {
   "cell_type": "markdown",
   "metadata": {},
   "source": [
    "Correlation = how change in value of one variable is affecting the values of other variable.\n",
    "\n",
    "A correlation coefficient is a statistical measure of the degree to which changes to the value of one variable predict change to the value of another.\n"
   ]
  },
  {
   "cell_type": "markdown",
   "metadata": {},
   "source": [
    "What Is R-squared?\n",
    "\n",
    "R Squared = Square of correlation between x and y.\n",
    "\n",
    "\n",
    "R-squared is a statistical measure of how close the data are to the fitted regression line. \n",
    "It is also known as the coefficient of determination, or the coefficient of multiple determination for multiple regression.\n",
    "\n",
    "R squared is proportion of change in Y explained by regression model. It is a comaparative bench mark. \n",
    "\n",
    "If you are comparing two regression model on same datasets adn all other things being same, then model having high R suared value is preferred."
   ]
  },
  {
   "cell_type": "markdown",
   "metadata": {},
   "source": [
    "[Basic Explanation of R squared](https://towardsdatascience.com/coefficient-of-determination-r-squared-explained-db32700d924e)\n",
    "\n",
    "<img src = 'coefficient-of-determination-r-squared.png'>\n",
    "\n",
    "The equation is essentially 1 minus the division of the squared error of the regression line and the squared error of the mean y line. The mean y line is quite literally the mean of all of the y values from the dataset. If you were to graph it, then it would be a flat, horizontal, line. Thus, we do the squared error of the average y, and of the regression line. The objective here is to discern how much of the error is actually just simply a result in variation in the data features, as opposed to being a result of the regression line being a poor fit."
   ]
  },
  {
   "cell_type": "code",
   "execution_count": 54,
   "metadata": {},
   "outputs": [
    {
     "data": {
      "text/plain": [
       "0.3214285714285714"
      ]
     },
     "execution_count": 54,
     "metadata": {},
     "output_type": "execute_result"
    }
   ],
   "source": [
    "from statistics import mean\n",
    "import numpy as np\n",
    "\n",
    "x = np.array([1,2,3,4,5], dtype = np.float64)\n",
    "y = np.array([5,4,6,5,6], dtype = np.float64)\n",
    "\n",
    "def best_slope_intercept(x,y):\n",
    "    m = (mean(x) * mean(y) - mean(x * y))/(mean(x)**2 - mean(x*x))\n",
    "    b = (mean(y) - (m * mean(x)))\n",
    "    return m, b\n",
    "m, b = best_slope_intercept(x,y)\n",
    "m, b\n",
    "\n",
    "regression_line = [m * x + b for x in x]\n",
    "\n",
    "\n",
    "def squared_error(y,regression_line):\n",
    "    return sum((regression_line - y)**2)\n",
    "\n",
    "def coefficient_of_determination(y,regression_line):\n",
    "    y_mean_line = [mean(y) for i in y]\n",
    "    squared_error_regr = squared_error(y, regression_line)\n",
    "    squared_error_y_mean = squared_error(y, y_mean_line)\n",
    "    return 1 - (squared_error_regr/squared_error_y_mean)\n",
    "\n",
    "r_squared = coefficient_of_determination(y,regression_line)\n",
    "r_squared\n"
   ]
  },
  {
   "cell_type": "markdown",
   "metadata": {},
   "source": [
    "That's a pretty low value, so actually our best-fit line isn't all that great according to this measure. Is r squared a good measure in this case? It may depend on what your goals are. In most cases, if you care about predicting exact future values, r squared is indeed very useful. If you're interested in predicting motion/direction, then our best fit line is actually pretty good so far, and r squared shouldn't carry as much weight. Look at our actual dataset though. We stuck with low, whole numbers. Variance from value to value was 20-50% at some points, that's a very high variance. It should not be all that surprising that, with this simple dataset, our best fit line still wasn't that descriptive of the actual data.\n",
    "\n",
    " In the case here, the assumptions are that we coded these algorithms correctly, and that the reason for the low coefficient of determination value was because the variation in y was actually quite large. \n",
    " \n",
    "So, we will use a data generator to generate dataset for us and we will test our algorithm on datasets to check if our assumption that our algorithm is good and low value of R squared is due to large variation in x which is causing a large variation in y and so reducing the R squared."
   ]
  },
  {
   "cell_type": "markdown",
   "metadata": {},
   "source": [
    "The idea here is to create a sample dataset that is defined by us. If we have a positively correlated dataset, where the correlation is quite strong and tight, then r squared should be higher, than if the correlation is weaker and points are not as tightly conformed. The easier it would be for us to personally just eye-ball and estimate the line, the better the machine should perform. Let's build a system that will generate example data that we can dictate these such parameters:\n"
   ]
  },
  {
   "cell_type": "code",
   "execution_count": null,
   "metadata": {},
   "outputs": [],
   "source": [
    "#To start, we'll build a skeleton function that mimics what the end-goal is:\n",
    "import random\n",
    "def create_dataset(hm,variance,step=2,correlation=False):\n",
    "\n",
    "    return np.array(xs, dtype=np.float64),np.array(ys,dtype=np.float64)"
   ]
  },
  {
   "cell_type": "code",
   "execution_count": 3,
   "metadata": {},
   "outputs": [
    {
     "name": "stdout",
     "output_type": "stream",
     "text": [
      "19730.504315197006\n",
      "42763.59999999999\n",
      "0.5386145152607121\n"
     ]
    },
    {
     "data": {
      "image/png": "[encoded data removed]",
      "text/plain": [
       "<Figure size 432x288 with 1 Axes>"
      ]
     },
     "metadata": {},
     "output_type": "display_data"
    }
   ],
   "source": [
    "from statistics import mean\n",
    "import numpy as np\n",
    "import random\n",
    "import matplotlib.pyplot as plt\n",
    "from matplotlib import style\n",
    "style.use('ggplot')\n",
    "\n",
    "\n",
    "def create_dataset(hm,variance,step=2,correlation=False):\n",
    "    val = 1\n",
    "    ys = []\n",
    "    for i in range(hm):\n",
    "        y = val + random.randrange(-variance,variance)\n",
    "        ys.append(y)\n",
    "        if correlation and correlation == 'pos':\n",
    "            val+=step\n",
    "        elif correlation and correlation == 'neg':\n",
    "            val-=step\n",
    "\n",
    "    xs = [i for i in range(len(ys))]\n",
    "    \n",
    "    return np.array(xs, dtype=np.float64),np.array(ys,dtype=np.float64)\n",
    "\n",
    "def best_fit_slope_and_intercept(xs,ys):\n",
    "    m = (((mean(xs)*mean(ys)) - mean(xs*ys)) /\n",
    "         ((mean(xs)*mean(xs)) - mean(xs*xs)))\n",
    "    \n",
    "    b = mean(ys) - m*mean(xs)\n",
    "\n",
    "    return m, b\n",
    "\n",
    "\n",
    "def coefficient_of_determination(ys_orig,ys_line):\n",
    "    y_mean_line = [mean(ys_orig) for y in ys_orig]\n",
    "\n",
    "    squared_error_regr = sum((ys_line - ys_orig) * (ys_line - ys_orig))\n",
    "    squared_error_y_mean = sum((y_mean_line - ys_orig) * (y_mean_line - ys_orig))\n",
    "\n",
    "    print(squared_error_regr)\n",
    "    print(squared_error_y_mean)\n",
    "\n",
    "    r_squared = 1 - (squared_error_regr/squared_error_y_mean)\n",
    "\n",
    "    return r_squared\n",
    "\n",
    "\n",
    "xs, ys = create_dataset(40,40,2,correlation='pos')\n",
    "m, b = best_fit_slope_and_intercept(xs,ys)\n",
    "regression_line = [(m*x)+b for x in xs]\n",
    "r_squared = coefficient_of_determination(ys,regression_line)\n",
    "print(r_squared)\n",
    "\n",
    "plt.scatter(xs,ys,color='#003F72', label = 'data')\n",
    "plt.plot(xs, regression_line, label = 'regression line')\n",
    "plt.legend(loc=4)\n",
    "plt.show()"
   ]
  },
  {
   "cell_type": "markdown",
   "metadata": {},
   "source": [
    "By now, I think we should feel confident that things are working how we intended!"
   ]
  }
 ],
 "metadata": {
  "kernelspec": {
   "display_name": "Python 3",
   "language": "python",
   "name": "python3"
  },
  "language_info": {
   "codemirror_mode": {
    "name": "ipython",
    "version": 3
   },
   "file_extension": ".py",
   "mimetype": "text/x-python",
   "name": "python",
   "nbconvert_exporter": "python",
   "pygments_lexer": "ipython3",
   "version": "3.6.5"
  }
 },
 "nbformat": 4,
 "nbformat_minor": 2
}
